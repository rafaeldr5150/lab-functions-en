{
 "cells": [
  {
   "cell_type": "markdown",
   "metadata": {},
   "source": [
    "# Functions"
   ]
  },
  {
   "cell_type": "markdown",
   "metadata": {},
   "source": [
    "On this lab we will put to practice some of the concepts we have learned on this past few days.\n",
    "\n",
    "`NOTE: On this lab you should try to write all the functions yourself using only the most basic of python syntax and without functions such as len, count, sum, max, min, in, etc. Give it a try. 🧑🏻‍💻👩🏻‍💻`\n",
    "\n",
    "The cell after each exercise contains a few tests to check if your function works as expected."
   ]
  },
  {
   "cell_type": "code",
   "execution_count": 194,
   "metadata": {},
   "outputs": [],
   "source": [
    "from mod.testing import *\n",
    "import unittest"
   ]
  },
  {
   "cell_type": "markdown",
   "metadata": {},
   "source": [
    "## 1. Write a function that returns the greater of two numbers"
   ]
  },
  {
   "cell_type": "code",
   "execution_count": null,
   "metadata": {},
   "outputs": [],
   "source": [
    "def greater(a,b):\n",
    "#your code here\n",
    "    if a > b:\n",
    "        return a\n",
    "    elif b > a:\n",
    "        return b\n",
    "    else:\n",
    "        return 'Equals'"
   ]
  },
  {
   "cell_type": "code",
   "execution_count": 201,
   "metadata": {},
   "outputs": [
    {
     "name": "stderr",
     "output_type": "stream",
     "text": [
      "....................................................................................................\n",
      "----------------------------------------------------------------------\n",
      "Ran 100 tests in 0.135s\n",
      "\n",
      "OK\n"
     ]
    }
   ],
   "source": [
    "# This will test your function \n",
    "test_greater(greater)"
   ]
  },
  {
   "cell_type": "markdown",
   "metadata": {},
   "source": [
    "## 2. Now write a function that returns the largest element on a list"
   ]
  },
  {
   "cell_type": "code",
   "execution_count": 211,
   "metadata": {},
   "outputs": [],
   "source": [
    "def greatest(lst):\n",
    "    \n",
    "    maior = lst[0]\n",
    "    i = 1\n",
    "    while True:\n",
    "        try:\n",
    "            if lst[i] > maior:\n",
    "                maior = lst[i]\n",
    "            i += 1\n",
    "        except IndexError:\n",
    "            \n",
    "            return maior"
   ]
  },
  {
   "cell_type": "code",
   "execution_count": 212,
   "metadata": {},
   "outputs": [
    {
     "name": "stderr",
     "output_type": "stream",
     "text": [
      "....................................................................................................\n",
      "----------------------------------------------------------------------\n",
      "Ran 100 tests in 0.122s\n",
      "\n",
      "OK\n"
     ]
    }
   ],
   "source": [
    "# This will test your function \n",
    "test_greatest(greatest)"
   ]
  },
  {
   "cell_type": "markdown",
   "metadata": {},
   "source": [
    "## 3. Write a function that sums all the elements on a list"
   ]
  },
  {
   "cell_type": "code",
   "execution_count": 213,
   "metadata": {},
   "outputs": [],
   "source": [
    "def sum_all(lst):\n",
    "    total = 0\n",
    "    i = 0\n",
    "\n",
    "    while True:\n",
    "        try:\n",
    "            total += lst[i]\n",
    "            i += 1\n",
    "        except IndexError:\n",
    "            return total"
   ]
  },
  {
   "cell_type": "code",
   "execution_count": 214,
   "metadata": {
    "scrolled": true
   },
   "outputs": [
    {
     "name": "stderr",
     "output_type": "stream",
     "text": [
      "....................................................................................................\n",
      "----------------------------------------------------------------------\n",
      "Ran 100 tests in 0.111s\n",
      "\n",
      "OK\n"
     ]
    }
   ],
   "source": [
    "# This will test your function \n",
    "test_sum(sum_all)"
   ]
  },
  {
   "cell_type": "markdown",
   "metadata": {},
   "source": [
    "## 4. Write another function that multiplies all the elements on a list"
   ]
  },
  {
   "cell_type": "code",
   "execution_count": 223,
   "metadata": {},
   "outputs": [],
   "source": [
    "def mult_all(lst):\n",
    "#your code here\n",
    "    prod = 1\n",
    "    i = 0\n",
    "\n",
    "    while True:\n",
    "        try:\n",
    "            prod *= lst[i]\n",
    "            i += 1\n",
    "        except IndexError:\n",
    "            return prod"
   ]
  },
  {
   "cell_type": "code",
   "execution_count": 224,
   "metadata": {
    "scrolled": true
   },
   "outputs": [
    {
     "name": "stderr",
     "output_type": "stream",
     "text": [
      "....................................................................................................\n",
      "----------------------------------------------------------------------\n",
      "Ran 100 tests in 0.117s\n",
      "\n",
      "OK\n"
     ]
    }
   ],
   "source": [
    "# This will test your function \n",
    "test_mult(mult_all)"
   ]
  },
  {
   "cell_type": "markdown",
   "metadata": {},
   "source": [
    "## 5. Now combine those two ideas and write a function that receives a list and either \"+\" or \"*\" and outputs acordingly"
   ]
  },
  {
   "cell_type": "code",
   "execution_count": 233,
   "metadata": {},
   "outputs": [],
   "source": [
    "def oper_all(lst, oper):\n",
    "    if oper == \"+\":\n",
    "        total = 0\n",
    "        i = 0\n",
    "        while True:\n",
    "            try:\n",
    "                total += lst[i]\n",
    "                i += 1\n",
    "            except IndexError:\n",
    "                return total\n",
    "    else:\n",
    "        prod = 1\n",
    "        i = 0\n",
    "        while True:\n",
    "            try:\n",
    "                prod *= lst[i]\n",
    "                i += 1\n",
    "            except IndexError:\n",
    "                return prod\n"
   ]
  },
  {
   "cell_type": "code",
   "execution_count": 234,
   "metadata": {},
   "outputs": [
    {
     "name": "stderr",
     "output_type": "stream",
     "text": [
      "....................................................................................................\n",
      "----------------------------------------------------------------------\n",
      "Ran 100 tests in 0.136s\n",
      "\n",
      "OK\n"
     ]
    }
   ],
   "source": [
    "# This will test your function \n",
    "test_operations(oper_all)"
   ]
  },
  {
   "cell_type": "markdown",
   "metadata": {},
   "source": [
    "## 6. Write a function that returns the factorial of a number."
   ]
  },
  {
   "cell_type": "code",
   "execution_count": 237,
   "metadata": {},
   "outputs": [],
   "source": [
    "def factorial(n):\n",
    "    result = 1\n",
    "    for i in range(1, n + 1):\n",
    "        result *= i\n",
    "    return result\n",
    "\n"
   ]
  },
  {
   "cell_type": "code",
   "execution_count": null,
   "metadata": {},
   "outputs": [],
   "source": [
    "#factorial formula\n",
    "#n! = n * ( n - 1 ) *...*1\n",
    "\n",
    "# This code defines a function called \"factorial\" which takes an input \"n\". The function uses a for loop to iterate through the range of numbers \n",
    "# from 1 to n+1. For each number in that range, it multiplies the current value of x by the number in the range. At the end of the loop, \n",
    "# the function returns the final value of x, which will be the factorial of the input number \"n\".\n",
    "\n",
    "# The Factorial of a positive integer n is the product of all positive integers less than or equal to n. \n",
    "# For example, the factorial of 6 (written \"6!\") is 6 * 5 * 4 * 3 * 2 * 1 = 720.\n",
    "\n",
    "# So this function takes an input of any positive integer, and returns the factorial of that number."
   ]
  },
  {
   "cell_type": "code",
   "execution_count": 238,
   "metadata": {},
   "outputs": [
    {
     "name": "stderr",
     "output_type": "stream",
     "text": [
      "....................................................................................................\n",
      "----------------------------------------------------------------------\n",
      "Ran 100 tests in 0.129s\n",
      "\n",
      "OK\n"
     ]
    }
   ],
   "source": [
    "# This will test your function \n",
    "test_factorial(factorial)"
   ]
  },
  {
   "cell_type": "markdown",
   "metadata": {},
   "source": [
    "## 7. Write a function that takes a list and returns a list of the unique values.\n",
    "\n",
    "`NOTE: You cannot use set. 🤔`"
   ]
  },
  {
   "cell_type": "code",
   "execution_count": 242,
   "metadata": {},
   "outputs": [],
   "source": [
    "def unique_values(lst):\n",
    "    uniques = []\n",
    "    i = 0\n",
    "\n",
    "    while True:\n",
    "        try:\n",
    "            value = lst[i]\n",
    " \n",
    "            j = 0\n",
    "            already_exists = False\n",
    "            while True:\n",
    "                try:\n",
    "                    if uniques[j] == value:\n",
    "                        already_exists = True\n",
    "                        break\n",
    "                    j += 1\n",
    "                except IndexError:\n",
    "                    break\n",
    "            \n",
    "            \n",
    "            if not already_exists:\n",
    "                uniques += [value]\n",
    "            \n",
    "            i += 1\n",
    "        except IndexError:\n",
    "            return uniques\n"
   ]
  },
  {
   "cell_type": "code",
   "execution_count": 243,
   "metadata": {},
   "outputs": [
    {
     "name": "stderr",
     "output_type": "stream",
     "text": [
      "....................................................................................................\n",
      "----------------------------------------------------------------------\n",
      "Ran 100 tests in 0.260s\n",
      "\n",
      "OK\n"
     ]
    }
   ],
   "source": [
    "# This will test your function \n",
    "test_unique(unique)"
   ]
  },
  {
   "cell_type": "markdown",
   "metadata": {},
   "source": [
    "## 8. Write a function that returns the mode of a list, i.e.: the element that appears the most times.\n",
    "`NOTE: You should not use count... 🧐`"
   ]
  },
  {
   "cell_type": "code",
   "execution_count": 244,
   "metadata": {},
   "outputs": [],
   "source": [
    "def mode(lst):\n",
    "    uniques = []\n",
    "    counts = []\n",
    "    i = 0\n",
    "\n",
    "    while True:\n",
    "        try:\n",
    "            value = lst[i]\n",
    "\n",
    "            j = 0\n",
    "            exists = False\n",
    "            while True:\n",
    "                try:\n",
    "                    if uniques[j] == value:\n",
    "                        counts[j] += 1\n",
    "                        exists = True\n",
    "                        break\n",
    "                    j += 1\n",
    "                except IndexError:\n",
    "                    break\n",
    "            \n",
    "            if not exists:\n",
    "                uniques += [value]\n",
    "                counts += [1]\n",
    "\n",
    "            i += 1\n",
    "        except IndexError:\n",
    "            break\n",
    "        \n",
    "    max_count = counts[0]\n",
    "    mode_value = uniques[0]\n",
    "    k = 1\n",
    "    while True:\n",
    "        try:\n",
    "            if counts[k] > max_count:\n",
    "                max_count = counts[k]\n",
    "                mode_value = uniques[k]\n",
    "            k += 1\n",
    "        except IndexError:\n",
    "            break\n",
    "\n",
    "    return mode_value\n"
   ]
  },
  {
   "cell_type": "code",
   "execution_count": 245,
   "metadata": {},
   "outputs": [
    {
     "name": "stderr",
     "output_type": "stream",
     "text": [
      "....................................................................................................\n",
      "----------------------------------------------------------------------\n",
      "Ran 100 tests in 0.129s\n",
      "\n",
      "OK\n"
     ]
    }
   ],
   "source": [
    "# This will test your function \n",
    "test_mode(mode_counter)"
   ]
  },
  {
   "cell_type": "markdown",
   "metadata": {},
   "source": [
    "## 9. Write a function that calculates the standard deviation of a list.\n",
    "`NOTE: Do not use any libraries or already built functions. 😉`"
   ]
  },
  {
   "cell_type": "code",
   "execution_count": 298,
   "metadata": {},
   "outputs": [],
   "source": [
    "def st_dev(list_sd):\n",
    "    total = 0\n",
    "    count = 0\n",
    "    for x in list_sd:\n",
    "        total+= x\n",
    "        count += 1\n",
    "    if count == 0:\n",
    "        return 0.0\n",
    "    mean = total / count\n",
    "    \n",
    "    ss = 0\n",
    "    for x in list_sd:\n",
    "        d = x - mean\n",
    "        ss += d * d\n",
    "    \n",
    "    if count == 1:\n",
    "        return 0.0\n",
    "    variance = ss / (count - 1)\n",
    "    return variance ** 0.5\n"
   ]
  },
  {
   "cell_type": "code",
   "execution_count": 299,
   "metadata": {},
   "outputs": [
    {
     "name": "stderr",
     "output_type": "stream",
     "text": [
      "....................................................................................................\n",
      "----------------------------------------------------------------------\n",
      "Ran 100 tests in 0.155s\n",
      "\n",
      "OK\n"
     ]
    }
   ],
   "source": [
    "# This will test your function \n",
    "test_stdev(st_dev)"
   ]
  },
  {
   "cell_type": "markdown",
   "metadata": {},
   "source": [
    "## 10. Write a function to check if a string is a pangram, i.e.: if it contains all the letters of the alphabet at least once. Mind that the strings may contain characters that are not letters."
   ]
  },
  {
   "cell_type": "code",
   "execution_count": 306,
   "metadata": {},
   "outputs": [],
   "source": [
    "def pangram(s):\n",
    "    alphabet = \"abcdefghijklmnopqrstuvwxyz\"\n",
    "    found = \"\"\n",
    "\n",
    "    i = 0\n",
    "    while True:\n",
    "        try:\n",
    "            c = s[i]\n",
    "            if 'A' <= c <= 'Z':\n",
    "                c = chr(ord(c) + 32)\n",
    "            if 'a' <= c <= 'z':\n",
    "                if c not in found:\n",
    "                    found += c\n",
    "            i += 1\n",
    "        except IndexError:\n",
    "            break\n",
    "\n",
    "    j = 0\n",
    "    while True:\n",
    "        try:\n",
    "            if alphabet[j] not in found:\n",
    "                return False\n",
    "            j += 1\n",
    "        except IndexError:\n",
    "            break\n",
    "\n",
    "    return True\n",
    "\n"
   ]
  },
  {
   "cell_type": "code",
   "execution_count": 307,
   "metadata": {},
   "outputs": [
    {
     "name": "stderr",
     "output_type": "stream",
     "text": [
      "..............................\n",
      "----------------------------------------------------------------------\n",
      "Ran 30 tests in 0.026s\n",
      "\n",
      "OK\n"
     ]
    }
   ],
   "source": [
    "# This will test your function \n",
    "test_pangram(pangram)"
   ]
  },
  {
   "cell_type": "markdown",
   "metadata": {},
   "source": [
    "## 11. Write a function that receives a string of comma separated words and returns a string of comma separated words sorted alphabetically.\n",
    "\n",
    "`NOTE: You may use sorted but not split and definitely no join! 🤪`"
   ]
  },
  {
   "cell_type": "code",
   "execution_count": 304,
   "metadata": {},
   "outputs": [],
   "source": [
    "def sort_alpha(s):\n",
    "    words = []\n",
    "    word = \"\"\n",
    "    i = 0\n",
    "    while True:\n",
    "        try:\n",
    "            c = s[i]\n",
    "            if c == \",\":\n",
    "                words += [word]\n",
    "                word = \"\"\n",
    "            else:\n",
    "                word += c\n",
    "            i += 1\n",
    "        except IndexError:\n",
    "            words += [word]\n",
    "            break\n",
    "\n",
    "    words_sorted = sorted(words)\n",
    "\n",
    "    result = \"\"\n",
    "    j = 0\n",
    "    while True:\n",
    "        try:\n",
    "            result += words_sorted[j]\n",
    "            if j != len(words_sorted) - 1:\n",
    "                result += \",\"\n",
    "            j += 1\n",
    "        except IndexError:\n",
    "            break\n",
    "\n",
    "    return result\n"
   ]
  },
  {
   "cell_type": "code",
   "execution_count": 305,
   "metadata": {},
   "outputs": [
    {
     "name": "stderr",
     "output_type": "stream",
     "text": [
      "....................................................................................................\n",
      "----------------------------------------------------------------------\n",
      "Ran 100 tests in 0.127s\n",
      "\n",
      "OK\n"
     ]
    }
   ],
   "source": [
    "# This will test your function \n",
    "test_alpha(sort_alpha)"
   ]
  },
  {
   "cell_type": "markdown",
   "metadata": {},
   "source": [
    "## 12. Write a function to check if a given password is strong (at least 8 characters, at least one lower case, at least one upper case, at least one number and at least one special character). It should output True if strong and False if not."
   ]
  },
  {
   "cell_type": "code",
   "execution_count": 302,
   "metadata": {},
   "outputs": [],
   "source": [
    "def check_pass(pw):\n",
    "    if len(pw) < 8:\n",
    "        return False\n",
    "\n",
    "    has_lower = False\n",
    "    has_upper = False\n",
    "    has_digit = False\n",
    "    has_special = False\n",
    "    specials = \"#@!$%&()^*[]{}\"\n",
    "\n",
    "    i = 0\n",
    "    while True:\n",
    "        try:\n",
    "            c = pw[i]\n",
    "            if 'a' <= c <= 'z':\n",
    "                has_lower = True\n",
    "            elif 'A' <= c <= 'Z':\n",
    "                has_upper = True\n",
    "            elif '0' <= c <= '9':\n",
    "                has_digit = True\n",
    "            else:\n",
    "                j = 0\n",
    "                while True:\n",
    "                    try:\n",
    "                        if c == specials[j]:\n",
    "                            has_special = True\n",
    "                            break\n",
    "                        j += 1\n",
    "                    except IndexError:\n",
    "                        break\n",
    "            i += 1\n",
    "        except IndexError:\n",
    "            break\n",
    "\n",
    "    return has_lower and has_upper and has_digit and has_special\n"
   ]
  },
  {
   "cell_type": "code",
   "execution_count": 303,
   "metadata": {},
   "outputs": [
    {
     "name": "stderr",
     "output_type": "stream",
     "text": [
      "....................................................................................................\n",
      "----------------------------------------------------------------------\n",
      "Ran 100 tests in 0.111s\n",
      "\n",
      "OK\n"
     ]
    }
   ],
   "source": [
    "# This will test your function \n",
    "test_pass(check_pass)"
   ]
  }
 ],
 "metadata": {
  "kernelspec": {
   "display_name": "Python 3 (ipykernel)",
   "language": "python",
   "name": "python3"
  },
  "language_info": {
   "codemirror_mode": {
    "name": "ipython",
    "version": 3
   },
   "file_extension": ".py",
   "mimetype": "text/x-python",
   "name": "python",
   "nbconvert_exporter": "python",
   "pygments_lexer": "ipython3",
   "version": "3.9.13"
  },
  "vscode": {
   "interpreter": {
    "hash": "aee8b7b246df8f9039afb4144a1f6fd8d2ca17a180786b69acc140d282b71a49"
   }
  }
 },
 "nbformat": 4,
 "nbformat_minor": 4
}
